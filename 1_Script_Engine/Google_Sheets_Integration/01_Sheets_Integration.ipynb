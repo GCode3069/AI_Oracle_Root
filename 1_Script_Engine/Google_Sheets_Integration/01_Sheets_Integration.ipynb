﻿{
    "cells": [
        {
            "cell_type": "code",
            "execution_count": null,
            "id": "5e8914e7-aa4e-4543-80a2-f225c243b2e1",
            "metadata": {},
            "outputs": [],
            "source": [
                "# Auto-generated Notebook\n",
                "print('Hello, this is your notebook template for the AI Oracle project.')"
            ]
        }
    ],
    "metadata": {
        "kernelspec": {
            "display_name": "Python 3.10 for data science",
            "language": "python",
            "name": "python3"
        },
        "language_info": {
            "name": "python",
            "version": "3.x"
        }
    },
    "nbformat": 4,
    "nbformat_minor": 5
}
